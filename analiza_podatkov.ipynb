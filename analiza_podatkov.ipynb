{
 "cells": [
  {
   "cell_type": "markdown",
   "metadata": {},
   "source": [
    "# Analiza podatkov\n",
    "V sledečem zvezku se nahaja analiza podatkov iz spletne strani [Musescore](https://musescore.com/sheetmusic)."
   ]
  },
  {
   "cell_type": "markdown",
   "metadata": {},
   "source": [
    "V _prvem delu_ bom izvedla preprosto analizo pridobljenih podatkov. \n",
    "Zanimalo me bo, kako se posamezni parametri povezujejo s popularnostjo skladbe ter povezave med parametri.\n",
    "Konkretno želim odgovoriti na naslednja vprašanja:\n",
    "* Katerih skladb je največ nasploh in za specifične kategorije?\n",
    "* Katere so najpopularnejše?\n",
    "* Kakšna je povezava med popularnostjo in številčnostjo skladb glede na kategorije?\n",
    "* Kakšne so lasnosti skladb, ki spadajo v Klasično glasbo, v primerjavi z ostalimi?\n",
    "\n",
    "\n",
    "V _drugem delu_ se bom lotila nekoliko zahtevnejše analize.\n",
    "Zanimalo me bo, če obstaja recept za uspešno objavo - pri tem bom uporabila pridobljene informacije iz prvega dela; hkrati pa bom izdelala napovedovalec popularnosti skladbe glede na parametre, kot je žanr, inštrument in podobno.\n",
    "\n",
    "Zanimala pa me bo tudi časovna slika podatkov. Tako bom podatke razdelila na smiselne časovne intervale in znotraj teh poiskala parametre, kot je povprečna zvrst, dolžina itn. objavljenih skladb v tem obdobju; prav tako pa bom po zastopanosti v tem obdobju uredila originale. Iskala bom obdobja večjih sprememb v podatkih in poskusila najti odgovor, zakaj je do njih prišlo. Zanimala me bo dominantnost posameznih žanrov in inštrumentov, z analizo žanrov pa bom tudi ustvarila sliko glasbenih okusov skozi čas.  \n",
    "Glede na rezultate bom ustvarila tudi predpostavke za spremembe trendov v prihodnosti.  \n",
    "Dobljene rezultate bom tudi vizualno predstavila s smiselnimi grafi.\n",
    "Ugotovitve o časovnih trendih bom dodala svojemu napovedovalcu popularnosti."
   ]
  }
 ],
 "metadata": {
  "kernelspec": {
   "display_name": "Python 3",
   "language": "python",
   "name": "python3"
  },
  "language_info": {
   "codemirror_mode": {
    "name": "ipython",
    "version": 3
   },
   "file_extension": ".py",
   "mimetype": "text/x-python",
   "name": "python",
   "nbconvert_exporter": "python",
   "pygments_lexer": "ipython3",
   "version": "3.9.0"
  },
  "orig_nbformat": 4
 },
 "nbformat": 4,
 "nbformat_minor": 2
}
